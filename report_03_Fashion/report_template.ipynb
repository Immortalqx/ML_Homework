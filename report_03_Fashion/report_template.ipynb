{
 "cells": [
  {
   "cell_type": "markdown",
   "metadata": {},
   "source": [
    "# Report - 报告题目\n",
    "\n",
    "* 姓名\n",
    "* 学号\n",
    "\n",
    "\n",
    "## 任务简介\n",
    "\n",
    "这里简述一下任务是什么；数据的格式，包含了什么数据；最终的目标是什么\n",
    "\n",
    "## 解决途径\n",
    "\n",
    "主要包括：\n",
    "1. 问题的思考，整体的思路\n",
    "2. 选用的方法，以及为何选用这些方法\n",
    "3. 实现过程遇到的问题，以及如何解决的\n",
    "4. 最终的结果，实验分析\n",
    "\n",
    "要求：\n",
    "1. 数据的可视化\n",
    "2. 程序，以及各个部分的解释、说明\n",
    "3. 结果的可视化，精度等的分析\n",
    "\n",
    "## 总结\n",
    "总结任务实现过程所取得的心得等。"
   ]
  }
 ],
 "metadata": {
  "kernelspec": {
   "display_name": "Python 3",
   "language": "python",
   "name": "python3"
  },
  "language_info": {
   "codemirror_mode": {
    "name": "ipython",
    "version": 3
   },
   "file_extension": ".py",
   "mimetype": "text/x-python",
   "name": "python",
   "nbconvert_exporter": "python",
   "pygments_lexer": "ipython3",
   "version": "3.5.2"
  },
  "main_language": "python"
 },
 "nbformat": 4,
 "nbformat_minor": 2
}
